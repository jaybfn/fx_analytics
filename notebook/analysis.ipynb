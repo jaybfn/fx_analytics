{
 "cells": [
  {
   "cell_type": "code",
   "execution_count": 100,
   "metadata": {},
   "outputs": [],
   "source": [
    "import pandas as pd"
   ]
  },
  {
   "cell_type": "code",
   "execution_count": 101,
   "metadata": {},
   "outputs": [
    {
     "data": {
      "text/html": [
       "<div>\n",
       "<style scoped>\n",
       "    .dataframe tbody tr th:only-of-type {\n",
       "        vertical-align: middle;\n",
       "    }\n",
       "\n",
       "    .dataframe tbody tr th {\n",
       "        vertical-align: top;\n",
       "    }\n",
       "\n",
       "    .dataframe thead th {\n",
       "        text-align: right;\n",
       "    }\n",
       "</style>\n",
       "<table border=\"1\" class=\"dataframe\">\n",
       "  <thead>\n",
       "    <tr style=\"text-align: right;\">\n",
       "      <th></th>\n",
       "      <th>date</th>\n",
       "      <th>type</th>\n",
       "      <th>volume</th>\n",
       "      <th>position_id</th>\n",
       "      <th>price</th>\n",
       "      <th>commission</th>\n",
       "      <th>swap</th>\n",
       "      <th>profit</th>\n",
       "      <th>fee</th>\n",
       "      <th>symbol</th>\n",
       "    </tr>\n",
       "  </thead>\n",
       "  <tbody>\n",
       "    <tr>\n",
       "      <th>0</th>\n",
       "      <td>2023-10-06</td>\n",
       "      <td>1</td>\n",
       "      <td>0.05</td>\n",
       "      <td>629162023</td>\n",
       "      <td>182.292</td>\n",
       "      <td>-0.14</td>\n",
       "      <td>0.0</td>\n",
       "      <td>0.54</td>\n",
       "      <td>0.0</td>\n",
       "      <td>GBPJPY</td>\n",
       "    </tr>\n",
       "    <tr>\n",
       "      <th>1</th>\n",
       "      <td>2023-10-06</td>\n",
       "      <td>0</td>\n",
       "      <td>0.10</td>\n",
       "      <td>629060972</td>\n",
       "      <td>1822.240</td>\n",
       "      <td>-0.28</td>\n",
       "      <td>0.0</td>\n",
       "      <td>0.00</td>\n",
       "      <td>0.0</td>\n",
       "      <td>XAUUSD</td>\n",
       "    </tr>\n",
       "  </tbody>\n",
       "</table>\n",
       "</div>"
      ],
      "text/plain": [
       "         date  type  volume  position_id     price  commission  swap  profit  \\\n",
       "0  2023-10-06     1    0.05    629162023   182.292       -0.14   0.0    0.54   \n",
       "1  2023-10-06     0    0.10    629060972  1822.240       -0.28   0.0    0.00   \n",
       "\n",
       "   fee  symbol  \n",
       "0  0.0  GBPJPY  \n",
       "1  0.0  XAUUSD  "
      ]
     },
     "execution_count": 101,
     "metadata": {},
     "output_type": "execute_result"
    }
   ],
   "source": [
    "df = pd.read_csv('../fx_history.csv')\n",
    "#df = df.drop(columns = ['Unnamed: 0'])\n",
    "df.head(2)"
   ]
  },
  {
   "cell_type": "code",
   "execution_count": null,
   "metadata": {},
   "outputs": [],
   "source": [
    "import pandas as pd\n",
    "import plotly.graph_objects as go\n",
    "\n",
    "def plot_growth_over_time(dataframe: pd.DataFrame,\n",
    "                          x_column: str,\n",
    "                          y_column: str,\n",
    "                          title: str = \"Profit Over Time\",\n",
    "                          yaxis_title: str = \"Growth\") -> go.Figure:\n",
    "    \"\"\"\n",
    "    Create a bar plot to visualize growth over time.\n",
    "\n",
    "    Args:\n",
    "        dataframe (pd.DataFrame): A DataFrame containing the data to be plotted.\n",
    "        x_column (str): The name of the column to be used as the x-axis.\n",
    "        y_column (str): The name of the column to be used as the y-axis.\n",
    "        title (str, optional): The title of the plot. Default is \"Profit Over Time\".\n",
    "        yaxis_title (str, optional): The title of the y-axis. Default is \"Growth\".\n",
    "\n",
    "    Returns:\n",
    "        go.Figure: A Plotly figure representing the bar plot.\n",
    "\n",
    "    Example:\n",
    "        df = pd.DataFrame({\n",
    "            'Date': ['2023-09-01', '2023-09-02', '2023-09-03'],\n",
    "            'Profit': [100, 150, 120]\n",
    "        })\n",
    "\n",
    "        fig = plot_growth_over_time(df, x_column='Date', y_column='Profit', title='Profit Over Time', yaxis_title='Profit')\n",
    "        fig.show()\n",
    "\n",
    "    Output:\n",
    "        (Bar plot visualization of growth over time)\n",
    "    \"\"\"\n",
    "    # Create a new Plotly figure\n",
    "    fig = go.Figure()\n",
    "\n",
    "    # Create a bar plot\n",
    "    fig.add_trace(go.Bar(x=dataframe[x_column], y=dataframe[y_column], name='Growth'))\n",
    "\n",
    "    # Customize the layout\n",
    "    fig.update_layout(\n",
    "        title=title,\n",
    "        xaxis_title=\"Date\",\n",
    "        yaxis_title=yaxis_title,\n",
    "        showlegend=True\n",
    "    )\n",
    "\n",
    "    return fig\n"
   ]
  },
  {
   "cell_type": "code",
   "execution_count": 102,
   "metadata": {},
   "outputs": [],
   "source": [
    "df.loc[:,'date'] = pd.to_datetime(df['date'])"
   ]
  },
  {
   "cell_type": "code",
   "execution_count": 97,
   "metadata": {},
   "outputs": [],
   "source": [
    "def monthly_percentage_growth(df: pd.DataFrame) -> pd.DataFrame:\n",
    "    \"\"\"\n",
    "    Calculate monthly percentage growth and related metrics from a given DataFrame.\n",
    "\n",
    "    Parameters:\n",
    "    - df (pandas.DataFrame): Input DataFrame containing at least the columns ['date', 'type', 'profit', 'swap', 'commission', 'fee'].\n",
    "\n",
    "    Returns:\n",
    "    - pandas.DataFrame: A DataFrame with monthly percentage growth and related metrics.\n",
    "    \"\"\"\n",
    "    \n",
    "    # Convert 'date' column to datetime format\n",
    "    df['date'] = pd.to_datetime(df['date'])\n",
    "    \n",
    "    # Calculate total deposits based on type==2 and store in variable\n",
    "    deposit = sum(df.loc[df.type == 2].profit.tolist())\n",
    "    \n",
    "    # Filter out rows where type is 2\n",
    "    df = df.loc[df['type'] != 2].copy()  # using .copy() to avoid SettingWithCopyWarning\n",
    "    \n",
    "    # Extract month and year from the 'date' column and create respective columns\n",
    "    df['month'] = df['date'].dt.month\n",
    "    df['year'] = df['date'].dt.year\n",
    "    \n",
    "    # Calculate the total profit by adding the profit, swap, commission, and fee columns\n",
    "    df.loc[:, 'total_profit'] = df['profit'] + df['swap'] + df['commission'] + df['fee']\n",
    "    \n",
    "    # Group by month and year, then sum the total profit for each group\n",
    "    df_month_percentage_growth = df.groupby(by=['month', 'year'])['total_profit'].sum().reset_index()\n",
    "    \n",
    "    # Calculate the cumulative monthly growth\n",
    "    df_month_percentage_growth.loc[:, 'cummulative_monthly_growth'] = df_month_percentage_growth['total_profit'].cumsum()\n",
    "    \n",
    "    # Calculate the daily balance by adding deposit to cumulative monthly growth\n",
    "    df_month_percentage_growth.loc[:, 'daily_balance'] =  deposit + df_month_percentage_growth['cummulative_monthly_growth']\n",
    "    \n",
    "    # Calculate the percentage monthly growth based on deposit\n",
    "    df_month_percentage_growth.loc[:, 'percentage_monthly_growth_%'] = round((df_month_percentage_growth['cummulative_monthly_growth'] / deposit), 3)\n",
    "    \n",
    "    # Calculate the cumulative monthly percentage growth based on the percentage monthly growth\n",
    "    df_month_percentage_growth.loc[:, 'cummulative_monthly_percentage_growth_%'] = round(df_month_percentage_growth['percentage_monthly_growth_%'].diff() * 100, 3)\n",
    "    \n",
    "    # Sort the DataFrame by year and month in descending order\n",
    "    df_month_percentage_growth = df_month_percentage_growth.sort_values(by=['year', 'month'], ascending=False)\n",
    "    \n",
    "    # Slice the DataFrame to get the first two rows\n",
    "    df_month_cum_growth = df_month_percentage_growth.iloc[:2]\n",
    "\n",
    "    return df_month_cum_growth"
   ]
  },
  {
   "cell_type": "code",
   "execution_count": 98,
   "metadata": {},
   "outputs": [
    {
     "data": {
      "text/html": [
       "<div>\n",
       "<style scoped>\n",
       "    .dataframe tbody tr th:only-of-type {\n",
       "        vertical-align: middle;\n",
       "    }\n",
       "\n",
       "    .dataframe tbody tr th {\n",
       "        vertical-align: top;\n",
       "    }\n",
       "\n",
       "    .dataframe thead th {\n",
       "        text-align: right;\n",
       "    }\n",
       "</style>\n",
       "<table border=\"1\" class=\"dataframe\">\n",
       "  <thead>\n",
       "    <tr style=\"text-align: right;\">\n",
       "      <th></th>\n",
       "      <th>month</th>\n",
       "      <th>year</th>\n",
       "      <th>total_profit</th>\n",
       "      <th>cummulative_monthly_growth</th>\n",
       "      <th>daily_balance</th>\n",
       "      <th>percentage_monthly_growth_%</th>\n",
       "      <th>cummulative_monthly_percentage_growth_%</th>\n",
       "    </tr>\n",
       "  </thead>\n",
       "  <tbody>\n",
       "    <tr>\n",
       "      <th>1</th>\n",
       "      <td>10</td>\n",
       "      <td>2023</td>\n",
       "      <td>119.15</td>\n",
       "      <td>-549.74</td>\n",
       "      <td>1240.26</td>\n",
       "      <td>-0.307</td>\n",
       "      <td>6.7</td>\n",
       "    </tr>\n",
       "    <tr>\n",
       "      <th>0</th>\n",
       "      <td>9</td>\n",
       "      <td>2023</td>\n",
       "      <td>-668.89</td>\n",
       "      <td>-668.89</td>\n",
       "      <td>1121.11</td>\n",
       "      <td>-0.374</td>\n",
       "      <td>NaN</td>\n",
       "    </tr>\n",
       "  </tbody>\n",
       "</table>\n",
       "</div>"
      ],
      "text/plain": [
       "   month  year  total_profit  cummulative_monthly_growth  daily_balance  \\\n",
       "1     10  2023        119.15                     -549.74        1240.26   \n",
       "0      9  2023       -668.89                     -668.89        1121.11   \n",
       "\n",
       "   percentage_monthly_growth_%  cummulative_monthly_percentage_growth_%  \n",
       "1                       -0.307                                      6.7  \n",
       "0                       -0.374                                      NaN  "
      ]
     },
     "execution_count": 98,
     "metadata": {},
     "output_type": "execute_result"
    }
   ],
   "source": [
    "df_month_cum_growth = monthly_percentage_growth(df)\n",
    "df_month_cum_growth"
   ]
  },
  {
   "cell_type": "code",
   "execution_count": 99,
   "metadata": {},
   "outputs": [],
   "source": [
    "current_month_growth = df_month_cum_growth['cummulative_monthly_percentage_growth_%'].to_list()[0]\n",
    "previous_month_growth = df_month_cum_growth['cummulative_monthly_percentage_growth_%'].to_list()[1]\n",
    "st.metric(label = 'monthly_growth', value = f\"{current_month_growth} %\", delta = f\"{previous_month_growth} %\" )"
   ]
  },
  {
   "cell_type": "code",
   "execution_count": 94,
   "metadata": {},
   "outputs": [],
   "source": [
    "df['date'] = pd.to_datetime(df['date'])\n",
    "deposit  =sum(df.loc[df.type == 2].profit.tolist())\n",
    "df = df.loc[df['type'] != 2]\n",
    "df['month'] = df['date'].dt.month\n",
    "df['year'] = df['date'].dt.year\n",
    "df.loc[:, 'total_profit'] = df['profit'] + df['swap'] + df['commission'] + df['fee']\n",
    "df_month_percentage_growth = df.groupby(by = ['month','year'])['total_profit'].sum().reset_index()\n",
    "df_month_percentage_growth.loc[:, 'cummulative_monthly_growth'] = df_month_percentage_growth['total_profit'].cumsum()\n",
    "df_month_percentage_growth.loc[:, 'daily_balance'] =  deposit + df_month_percentage_growth['cummulative_monthly_growth']\n",
    "df_month_percentage_growth.loc[:,'percentage_monthly_growth_%'] = round((df_month_percentage_growth['cummulative_monthly_growth'] / deposit),3)\n",
    "df_month_percentage_growth.loc[:,'cummulative_monthly_percentage_growth_%'] = round(df_month_percentage_growth['percentage_monthly_growth_%'].diff() * 100, 3)\n",
    "df_month_percentage_growth = df_month_percentage_growth.sort_values(by = ['year','month'], ascending = False)\n",
    "df_month_cum_growth = df_month_percentage_growth.iloc[:2]\n",
    "\n"
   ]
  },
  {
   "cell_type": "code",
   "execution_count": 95,
   "metadata": {},
   "outputs": [
    {
     "data": {
      "text/html": [
       "<div>\n",
       "<style scoped>\n",
       "    .dataframe tbody tr th:only-of-type {\n",
       "        vertical-align: middle;\n",
       "    }\n",
       "\n",
       "    .dataframe tbody tr th {\n",
       "        vertical-align: top;\n",
       "    }\n",
       "\n",
       "    .dataframe thead th {\n",
       "        text-align: right;\n",
       "    }\n",
       "</style>\n",
       "<table border=\"1\" class=\"dataframe\">\n",
       "  <thead>\n",
       "    <tr style=\"text-align: right;\">\n",
       "      <th></th>\n",
       "      <th>month</th>\n",
       "      <th>year</th>\n",
       "      <th>total_profit</th>\n",
       "      <th>cummulative_monthly_growth</th>\n",
       "      <th>daily_balance</th>\n",
       "      <th>percentage_monthly_growth_%</th>\n",
       "      <th>cummulative_monthly_percentage_growth_%</th>\n",
       "    </tr>\n",
       "  </thead>\n",
       "  <tbody>\n",
       "    <tr>\n",
       "      <th>1</th>\n",
       "      <td>10</td>\n",
       "      <td>2023</td>\n",
       "      <td>119.15</td>\n",
       "      <td>-549.74</td>\n",
       "      <td>1240.26</td>\n",
       "      <td>-0.307</td>\n",
       "      <td>6.7</td>\n",
       "    </tr>\n",
       "    <tr>\n",
       "      <th>0</th>\n",
       "      <td>9</td>\n",
       "      <td>2023</td>\n",
       "      <td>-668.89</td>\n",
       "      <td>-668.89</td>\n",
       "      <td>1121.11</td>\n",
       "      <td>-0.374</td>\n",
       "      <td>NaN</td>\n",
       "    </tr>\n",
       "  </tbody>\n",
       "</table>\n",
       "</div>"
      ],
      "text/plain": [
       "   month  year  total_profit  cummulative_monthly_growth  daily_balance  \\\n",
       "1     10  2023        119.15                     -549.74        1240.26   \n",
       "0      9  2023       -668.89                     -668.89        1121.11   \n",
       "\n",
       "   percentage_monthly_growth_%  cummulative_monthly_percentage_growth_%  \n",
       "1                       -0.307                                      6.7  \n",
       "0                       -0.374                                      NaN  "
      ]
     },
     "execution_count": 95,
     "metadata": {},
     "output_type": "execute_result"
    }
   ],
   "source": [
    "df_month_cum_growth"
   ]
  },
  {
   "cell_type": "code",
   "execution_count": 34,
   "metadata": {},
   "outputs": [
    {
     "name": "stdout",
     "output_type": "stream",
     "text": [
      "0\n"
     ]
    }
   ],
   "source": [
    "print(deposit)\n"
   ]
  },
  {
   "cell_type": "code",
   "execution_count": 17,
   "metadata": {},
   "outputs": [
    {
     "data": {
      "text/plain": [
       "(961, 14)"
      ]
     },
     "execution_count": 17,
     "metadata": {},
     "output_type": "execute_result"
    }
   ],
   "source": [
    "df.shape"
   ]
  },
  {
   "cell_type": "code",
   "execution_count": 4,
   "metadata": {},
   "outputs": [
    {
     "name": "stderr",
     "output_type": "stream",
     "text": [
      "C:\\Users\\Asus\\AppData\\Local\\Temp\\ipykernel_43376\\750893525.py:5: SettingWithCopyWarning: \n",
      "A value is trying to be set on a copy of a slice from a DataFrame.\n",
      "Try using .loc[row_indexer,col_indexer] = value instead\n",
      "\n",
      "See the caveats in the documentation: https://pandas.pydata.org/pandas-docs/stable/user_guide/indexing.html#returning-a-view-versus-a-copy\n",
      "  result_df.loc[:, 'total_profit'] = result_df['profit'] + result_df['swap'] + result_df['commission'] + result_df['fee']\n",
      "C:\\Users\\Asus\\AppData\\Local\\Temp\\ipykernel_43376\\750893525.py:6: SettingWithCopyWarning: \n",
      "A value is trying to be set on a copy of a slice from a DataFrame.\n",
      "Try using .loc[row_indexer,col_indexer] = value instead\n",
      "\n",
      "See the caveats in the documentation: https://pandas.pydata.org/pandas-docs/stable/user_guide/indexing.html#returning-a-view-versus-a-copy\n",
      "  result_df['week'] = result_df['date'].dt.isocalendar().week\n",
      "C:\\Users\\Asus\\AppData\\Local\\Temp\\ipykernel_43376\\750893525.py:7: SettingWithCopyWarning: \n",
      "A value is trying to be set on a copy of a slice from a DataFrame.\n",
      "Try using .loc[row_indexer,col_indexer] = value instead\n",
      "\n",
      "See the caveats in the documentation: https://pandas.pydata.org/pandas-docs/stable/user_guide/indexing.html#returning-a-view-versus-a-copy\n",
      "  result_df['month'] = result_df['date'].dt.month\n"
     ]
    },
    {
     "data": {
      "application/vnd.plotly.v1+json": {
       "config": {
        "plotlyServerURL": "https://plot.ly"
       },
       "data": [
        {
         "marker": {
          "color": [
           "red",
           "green"
          ]
         },
         "type": "bar",
         "x": [
          9,
          10
         ],
         "y": [
          -668.89,
          119.15
         ]
        }
       ],
       "layout": {
        "template": {
         "data": {
          "bar": [
           {
            "error_x": {
             "color": "#2a3f5f"
            },
            "error_y": {
             "color": "#2a3f5f"
            },
            "marker": {
             "line": {
              "color": "#E5ECF6",
              "width": 0.5
             },
             "pattern": {
              "fillmode": "overlay",
              "size": 10,
              "solidity": 0.2
             }
            },
            "type": "bar"
           }
          ],
          "barpolar": [
           {
            "marker": {
             "line": {
              "color": "#E5ECF6",
              "width": 0.5
             },
             "pattern": {
              "fillmode": "overlay",
              "size": 10,
              "solidity": 0.2
             }
            },
            "type": "barpolar"
           }
          ],
          "carpet": [
           {
            "aaxis": {
             "endlinecolor": "#2a3f5f",
             "gridcolor": "white",
             "linecolor": "white",
             "minorgridcolor": "white",
             "startlinecolor": "#2a3f5f"
            },
            "baxis": {
             "endlinecolor": "#2a3f5f",
             "gridcolor": "white",
             "linecolor": "white",
             "minorgridcolor": "white",
             "startlinecolor": "#2a3f5f"
            },
            "type": "carpet"
           }
          ],
          "choropleth": [
           {
            "colorbar": {
             "outlinewidth": 0,
             "ticks": ""
            },
            "type": "choropleth"
           }
          ],
          "contour": [
           {
            "colorbar": {
             "outlinewidth": 0,
             "ticks": ""
            },
            "colorscale": [
             [
              0,
              "#0d0887"
             ],
             [
              0.1111111111111111,
              "#46039f"
             ],
             [
              0.2222222222222222,
              "#7201a8"
             ],
             [
              0.3333333333333333,
              "#9c179e"
             ],
             [
              0.4444444444444444,
              "#bd3786"
             ],
             [
              0.5555555555555556,
              "#d8576b"
             ],
             [
              0.6666666666666666,
              "#ed7953"
             ],
             [
              0.7777777777777778,
              "#fb9f3a"
             ],
             [
              0.8888888888888888,
              "#fdca26"
             ],
             [
              1,
              "#f0f921"
             ]
            ],
            "type": "contour"
           }
          ],
          "contourcarpet": [
           {
            "colorbar": {
             "outlinewidth": 0,
             "ticks": ""
            },
            "type": "contourcarpet"
           }
          ],
          "heatmap": [
           {
            "colorbar": {
             "outlinewidth": 0,
             "ticks": ""
            },
            "colorscale": [
             [
              0,
              "#0d0887"
             ],
             [
              0.1111111111111111,
              "#46039f"
             ],
             [
              0.2222222222222222,
              "#7201a8"
             ],
             [
              0.3333333333333333,
              "#9c179e"
             ],
             [
              0.4444444444444444,
              "#bd3786"
             ],
             [
              0.5555555555555556,
              "#d8576b"
             ],
             [
              0.6666666666666666,
              "#ed7953"
             ],
             [
              0.7777777777777778,
              "#fb9f3a"
             ],
             [
              0.8888888888888888,
              "#fdca26"
             ],
             [
              1,
              "#f0f921"
             ]
            ],
            "type": "heatmap"
           }
          ],
          "heatmapgl": [
           {
            "colorbar": {
             "outlinewidth": 0,
             "ticks": ""
            },
            "colorscale": [
             [
              0,
              "#0d0887"
             ],
             [
              0.1111111111111111,
              "#46039f"
             ],
             [
              0.2222222222222222,
              "#7201a8"
             ],
             [
              0.3333333333333333,
              "#9c179e"
             ],
             [
              0.4444444444444444,
              "#bd3786"
             ],
             [
              0.5555555555555556,
              "#d8576b"
             ],
             [
              0.6666666666666666,
              "#ed7953"
             ],
             [
              0.7777777777777778,
              "#fb9f3a"
             ],
             [
              0.8888888888888888,
              "#fdca26"
             ],
             [
              1,
              "#f0f921"
             ]
            ],
            "type": "heatmapgl"
           }
          ],
          "histogram": [
           {
            "marker": {
             "pattern": {
              "fillmode": "overlay",
              "size": 10,
              "solidity": 0.2
             }
            },
            "type": "histogram"
           }
          ],
          "histogram2d": [
           {
            "colorbar": {
             "outlinewidth": 0,
             "ticks": ""
            },
            "colorscale": [
             [
              0,
              "#0d0887"
             ],
             [
              0.1111111111111111,
              "#46039f"
             ],
             [
              0.2222222222222222,
              "#7201a8"
             ],
             [
              0.3333333333333333,
              "#9c179e"
             ],
             [
              0.4444444444444444,
              "#bd3786"
             ],
             [
              0.5555555555555556,
              "#d8576b"
             ],
             [
              0.6666666666666666,
              "#ed7953"
             ],
             [
              0.7777777777777778,
              "#fb9f3a"
             ],
             [
              0.8888888888888888,
              "#fdca26"
             ],
             [
              1,
              "#f0f921"
             ]
            ],
            "type": "histogram2d"
           }
          ],
          "histogram2dcontour": [
           {
            "colorbar": {
             "outlinewidth": 0,
             "ticks": ""
            },
            "colorscale": [
             [
              0,
              "#0d0887"
             ],
             [
              0.1111111111111111,
              "#46039f"
             ],
             [
              0.2222222222222222,
              "#7201a8"
             ],
             [
              0.3333333333333333,
              "#9c179e"
             ],
             [
              0.4444444444444444,
              "#bd3786"
             ],
             [
              0.5555555555555556,
              "#d8576b"
             ],
             [
              0.6666666666666666,
              "#ed7953"
             ],
             [
              0.7777777777777778,
              "#fb9f3a"
             ],
             [
              0.8888888888888888,
              "#fdca26"
             ],
             [
              1,
              "#f0f921"
             ]
            ],
            "type": "histogram2dcontour"
           }
          ],
          "mesh3d": [
           {
            "colorbar": {
             "outlinewidth": 0,
             "ticks": ""
            },
            "type": "mesh3d"
           }
          ],
          "parcoords": [
           {
            "line": {
             "colorbar": {
              "outlinewidth": 0,
              "ticks": ""
             }
            },
            "type": "parcoords"
           }
          ],
          "pie": [
           {
            "automargin": true,
            "type": "pie"
           }
          ],
          "scatter": [
           {
            "fillpattern": {
             "fillmode": "overlay",
             "size": 10,
             "solidity": 0.2
            },
            "type": "scatter"
           }
          ],
          "scatter3d": [
           {
            "line": {
             "colorbar": {
              "outlinewidth": 0,
              "ticks": ""
             }
            },
            "marker": {
             "colorbar": {
              "outlinewidth": 0,
              "ticks": ""
             }
            },
            "type": "scatter3d"
           }
          ],
          "scattercarpet": [
           {
            "marker": {
             "colorbar": {
              "outlinewidth": 0,
              "ticks": ""
             }
            },
            "type": "scattercarpet"
           }
          ],
          "scattergeo": [
           {
            "marker": {
             "colorbar": {
              "outlinewidth": 0,
              "ticks": ""
             }
            },
            "type": "scattergeo"
           }
          ],
          "scattergl": [
           {
            "marker": {
             "colorbar": {
              "outlinewidth": 0,
              "ticks": ""
             }
            },
            "type": "scattergl"
           }
          ],
          "scattermapbox": [
           {
            "marker": {
             "colorbar": {
              "outlinewidth": 0,
              "ticks": ""
             }
            },
            "type": "scattermapbox"
           }
          ],
          "scatterpolar": [
           {
            "marker": {
             "colorbar": {
              "outlinewidth": 0,
              "ticks": ""
             }
            },
            "type": "scatterpolar"
           }
          ],
          "scatterpolargl": [
           {
            "marker": {
             "colorbar": {
              "outlinewidth": 0,
              "ticks": ""
             }
            },
            "type": "scatterpolargl"
           }
          ],
          "scatterternary": [
           {
            "marker": {
             "colorbar": {
              "outlinewidth": 0,
              "ticks": ""
             }
            },
            "type": "scatterternary"
           }
          ],
          "surface": [
           {
            "colorbar": {
             "outlinewidth": 0,
             "ticks": ""
            },
            "colorscale": [
             [
              0,
              "#0d0887"
             ],
             [
              0.1111111111111111,
              "#46039f"
             ],
             [
              0.2222222222222222,
              "#7201a8"
             ],
             [
              0.3333333333333333,
              "#9c179e"
             ],
             [
              0.4444444444444444,
              "#bd3786"
             ],
             [
              0.5555555555555556,
              "#d8576b"
             ],
             [
              0.6666666666666666,
              "#ed7953"
             ],
             [
              0.7777777777777778,
              "#fb9f3a"
             ],
             [
              0.8888888888888888,
              "#fdca26"
             ],
             [
              1,
              "#f0f921"
             ]
            ],
            "type": "surface"
           }
          ],
          "table": [
           {
            "cells": {
             "fill": {
              "color": "#EBF0F8"
             },
             "line": {
              "color": "white"
             }
            },
            "header": {
             "fill": {
              "color": "#C8D4E3"
             },
             "line": {
              "color": "white"
             }
            },
            "type": "table"
           }
          ]
         },
         "layout": {
          "annotationdefaults": {
           "arrowcolor": "#2a3f5f",
           "arrowhead": 0,
           "arrowwidth": 1
          },
          "autotypenumbers": "strict",
          "coloraxis": {
           "colorbar": {
            "outlinewidth": 0,
            "ticks": ""
           }
          },
          "colorscale": {
           "diverging": [
            [
             0,
             "#8e0152"
            ],
            [
             0.1,
             "#c51b7d"
            ],
            [
             0.2,
             "#de77ae"
            ],
            [
             0.3,
             "#f1b6da"
            ],
            [
             0.4,
             "#fde0ef"
            ],
            [
             0.5,
             "#f7f7f7"
            ],
            [
             0.6,
             "#e6f5d0"
            ],
            [
             0.7,
             "#b8e186"
            ],
            [
             0.8,
             "#7fbc41"
            ],
            [
             0.9,
             "#4d9221"
            ],
            [
             1,
             "#276419"
            ]
           ],
           "sequential": [
            [
             0,
             "#0d0887"
            ],
            [
             0.1111111111111111,
             "#46039f"
            ],
            [
             0.2222222222222222,
             "#7201a8"
            ],
            [
             0.3333333333333333,
             "#9c179e"
            ],
            [
             0.4444444444444444,
             "#bd3786"
            ],
            [
             0.5555555555555556,
             "#d8576b"
            ],
            [
             0.6666666666666666,
             "#ed7953"
            ],
            [
             0.7777777777777778,
             "#fb9f3a"
            ],
            [
             0.8888888888888888,
             "#fdca26"
            ],
            [
             1,
             "#f0f921"
            ]
           ],
           "sequentialminus": [
            [
             0,
             "#0d0887"
            ],
            [
             0.1111111111111111,
             "#46039f"
            ],
            [
             0.2222222222222222,
             "#7201a8"
            ],
            [
             0.3333333333333333,
             "#9c179e"
            ],
            [
             0.4444444444444444,
             "#bd3786"
            ],
            [
             0.5555555555555556,
             "#d8576b"
            ],
            [
             0.6666666666666666,
             "#ed7953"
            ],
            [
             0.7777777777777778,
             "#fb9f3a"
            ],
            [
             0.8888888888888888,
             "#fdca26"
            ],
            [
             1,
             "#f0f921"
            ]
           ]
          },
          "colorway": [
           "#636efa",
           "#EF553B",
           "#00cc96",
           "#ab63fa",
           "#FFA15A",
           "#19d3f3",
           "#FF6692",
           "#B6E880",
           "#FF97FF",
           "#FECB52"
          ],
          "font": {
           "color": "#2a3f5f"
          },
          "geo": {
           "bgcolor": "white",
           "lakecolor": "white",
           "landcolor": "#E5ECF6",
           "showlakes": true,
           "showland": true,
           "subunitcolor": "white"
          },
          "hoverlabel": {
           "align": "left"
          },
          "hovermode": "closest",
          "mapbox": {
           "style": "light"
          },
          "paper_bgcolor": "white",
          "plot_bgcolor": "#E5ECF6",
          "polar": {
           "angularaxis": {
            "gridcolor": "white",
            "linecolor": "white",
            "ticks": ""
           },
           "bgcolor": "#E5ECF6",
           "radialaxis": {
            "gridcolor": "white",
            "linecolor": "white",
            "ticks": ""
           }
          },
          "scene": {
           "xaxis": {
            "backgroundcolor": "#E5ECF6",
            "gridcolor": "white",
            "gridwidth": 2,
            "linecolor": "white",
            "showbackground": true,
            "ticks": "",
            "zerolinecolor": "white"
           },
           "yaxis": {
            "backgroundcolor": "#E5ECF6",
            "gridcolor": "white",
            "gridwidth": 2,
            "linecolor": "white",
            "showbackground": true,
            "ticks": "",
            "zerolinecolor": "white"
           },
           "zaxis": {
            "backgroundcolor": "#E5ECF6",
            "gridcolor": "white",
            "gridwidth": 2,
            "linecolor": "white",
            "showbackground": true,
            "ticks": "",
            "zerolinecolor": "white"
           }
          },
          "shapedefaults": {
           "line": {
            "color": "#2a3f5f"
           }
          },
          "ternary": {
           "aaxis": {
            "gridcolor": "white",
            "linecolor": "white",
            "ticks": ""
           },
           "baxis": {
            "gridcolor": "white",
            "linecolor": "white",
            "ticks": ""
           },
           "bgcolor": "#E5ECF6",
           "caxis": {
            "gridcolor": "white",
            "linecolor": "white",
            "ticks": ""
           }
          },
          "title": {
           "x": 0.05
          },
          "xaxis": {
           "automargin": true,
           "gridcolor": "white",
           "linecolor": "white",
           "ticks": "",
           "title": {
            "standoff": 15
           },
           "zerolinecolor": "white",
           "zerolinewidth": 2
          },
          "yaxis": {
           "automargin": true,
           "gridcolor": "white",
           "linecolor": "white",
           "ticks": "",
           "title": {
            "standoff": 15
           },
           "zerolinecolor": "white",
           "zerolinewidth": 2
          }
         }
        },
        "title": {
         "text": "Weekly Growth"
        },
        "xaxis": {
         "title": {
          "text": "month"
         }
        },
        "yaxis": {
         "title": {
          "text": "Profit"
         }
        }
       }
      }
     },
     "metadata": {},
     "output_type": "display_data"
    }
   ],
   "source": [
    "import plotly.graph_objects as go\n",
    "df['date'] = pd.to_datetime(df['date'])\n",
    "result_df = df.loc[df['type'] != 2]\n",
    "# Extract week and month\n",
    "result_df.loc[:, 'total_profit'] = result_df['profit'] + result_df['swap'] + result_df['commission'] + result_df['fee']\n",
    "result_df['week'] = result_df['date'].dt.isocalendar().week\n",
    "result_df['month'] = result_df['date'].dt.month\n",
    "weekly_growth = result_df.groupby(by ='month')['total_profit'].sum().reset_index()\n",
    "weekly_growth['color'] = weekly_growth['total_profit'].apply(lambda x: 'green' if x >= 0 else 'red')\n",
    "# Create the bar chart\n",
    "fig = go.Figure(data=[go.Bar(\n",
    "    x=weekly_growth['month'],\n",
    "    y=weekly_growth['total_profit'],\n",
    "    marker_color=weekly_growth['color'],  # Set the bar color based on the 'color' column\n",
    ")])\n",
    "\n",
    "# Customize the chart appearance\n",
    "fig.update_layout(\n",
    "    title=\"Weekly Growth\",\n",
    "    xaxis_title=\"month\",\n",
    "    yaxis_title=\"Profit\",\n",
    ")\n",
    "\n",
    "# Show the chart\n",
    "fig.show()\n"
   ]
  },
  {
   "cell_type": "code",
   "execution_count": 5,
   "metadata": {},
   "outputs": [
    {
     "ename": "NameError",
     "evalue": "name 'Figure' is not defined",
     "output_type": "error",
     "traceback": [
      "\u001b[1;31m---------------------------------------------------------------------------\u001b[0m",
      "\u001b[1;31mNameError\u001b[0m                                 Traceback (most recent call last)",
      "\u001b[1;32md:\\projects\\python_packages\\forex_dashboard\\notebook\\analysis.ipynb Cell 4\u001b[0m line \u001b[0;36m1\n\u001b[1;32m----> <a href='vscode-notebook-cell:/d%3A/projects/python_packages/forex_dashboard/notebook/analysis.ipynb#W3sZmlsZQ%3D%3D?line=0'>1</a>\u001b[0m \u001b[39mdef\u001b[39;00m \u001b[39mcreate_weekly_growth_chart\u001b[39m(df: pd\u001b[39m.\u001b[39mDataFrame, weeklygrowth \u001b[39m=\u001b[39m \u001b[39mTrue\u001b[39;00m) \u001b[39m-\u001b[39m\u001b[39m>\u001b[39m Figure:\n\u001b[0;32m      <a href='vscode-notebook-cell:/d%3A/projects/python_packages/forex_dashboard/notebook/analysis.ipynb#W3sZmlsZQ%3D%3D?line=1'>2</a>\u001b[0m \u001b[39m    \u001b[39m\u001b[39m\"\"\"\u001b[39;00m\n\u001b[0;32m      <a href='vscode-notebook-cell:/d%3A/projects/python_packages/forex_dashboard/notebook/analysis.ipynb#W3sZmlsZQ%3D%3D?line=2'>3</a>\u001b[0m \u001b[39m    Create and display a weekly growth bar chart from a DataFrame.\u001b[39;00m\n\u001b[0;32m      <a href='vscode-notebook-cell:/d%3A/projects/python_packages/forex_dashboard/notebook/analysis.ipynb#W3sZmlsZQ%3D%3D?line=3'>4</a>\u001b[0m \n\u001b[1;32m   (...)\u001b[0m\n\u001b[0;32m      <a href='vscode-notebook-cell:/d%3A/projects/python_packages/forex_dashboard/notebook/analysis.ipynb#W3sZmlsZQ%3D%3D?line=8'>9</a>\u001b[0m \u001b[39m        Figure: A Plotly Figure object representing the weekly growth chart.\u001b[39;00m\n\u001b[0;32m     <a href='vscode-notebook-cell:/d%3A/projects/python_packages/forex_dashboard/notebook/analysis.ipynb#W3sZmlsZQ%3D%3D?line=9'>10</a>\u001b[0m \u001b[39m    \"\"\"\u001b[39;00m\n\u001b[0;32m     <a href='vscode-notebook-cell:/d%3A/projects/python_packages/forex_dashboard/notebook/analysis.ipynb#W3sZmlsZQ%3D%3D?line=10'>11</a>\u001b[0m     \u001b[39m# Convert the 'date' column to DateTime\u001b[39;00m\n",
      "\u001b[1;31mNameError\u001b[0m: name 'Figure' is not defined"
     ]
    }
   ],
   "source": [
    "def create_weekly_growth_chart(df: pd.DataFrame, weeklygrowth = True) -> Figure:\n",
    "    \"\"\"\n",
    "    Create and display a weekly growth bar chart from a DataFrame.\n",
    "\n",
    "    Args:\n",
    "        df (DataFrame): The DataFrame containing the data with 'date', 'type', and 'profit' columns.\n",
    "\n",
    "    Returns:\n",
    "        Figure: A Plotly Figure object representing the weekly growth chart.\n",
    "    \"\"\"\n",
    "    # Convert the 'date' column to DateTime\n",
    "    df['date'] = pd.to_datetime(df['date'])\n",
    "\n",
    "    # Filter the DataFrame by 'type' column\n",
    "    result_df = df.loc[df['type'] != 2]\n",
    "\n",
    "    # Calculating total profit \n",
    "    result_df.loc[:, 'total_profit'] = result_df['profit'] + result_df['swap'] + result_df['commission'] + result_df['fee']\n",
    "    # Extract week and month\n",
    "    result_df['week'] = result_df['date'].dt.isocalendar().week\n",
    "    result_df['month'] = result_df['date'].dt.month\n",
    "\n",
    "    if weeklygrowth == True:\n",
    "        # Calculate weekly growth\n",
    "        weekly_growth = result_df.groupby(by='week')['total_profit'].sum().reset_index()\n",
    "        weekly_growth['color'] = weekly_growth['total_profit'].apply(lambda x: 'green' if x >= 0 else 'red')\n",
    "\n",
    "        # Create the bar chart\n",
    "        fig = go.Figure(data=[go.Bar(\n",
    "            x=weekly_growth['week'],\n",
    "            y=weekly_growth['total_profit'],\n",
    "            marker_color=weekly_growth['color'],  # Set the bar color based on the 'color' column\n",
    "        )])\n",
    "            # Customize the chart appearance\n",
    "        fig.update_layout(\n",
    "            title=\"Weekly Growth\",\n",
    "            xaxis_title=\"Week\",\n",
    "            yaxis_title=\"Profit\",\n",
    "        )\n",
    "\n",
    "    else:\n",
    "        # Calculate monthly growth\n",
    "        monthly_growth = result_df.groupby(by='month')['total_profit'].sum().reset_index()\n",
    "        monthly_growth['color'] = monthly_growth['total_profit'].apply(lambda x: 'green' if x >= 0 else 'red')\n",
    "\n",
    "        # Create the bar chart\n",
    "        fig = go.Figure(data=[go.Bar(\n",
    "            x=monthly_growth['month'],\n",
    "            y=monthly_growth['total_profit'],\n",
    "            marker_color=monthly_growth['color'],  # Set the bar color based on the 'color' column\n",
    "        )])\n",
    "        # Customize the chart appearance\n",
    "        fig.update_layout(\n",
    "            title=\"Monthly Growth\",\n",
    "            xaxis_title=\"month\",\n",
    "            yaxis_title=\"Profit\",\n",
    "        )\n",
    "\n",
    "    return fig"
   ]
  },
  {
   "cell_type": "code",
   "execution_count": 11,
   "metadata": {},
   "outputs": [
    {
     "data": {
      "text/html": [
       "<div>\n",
       "<style scoped>\n",
       "    .dataframe tbody tr th:only-of-type {\n",
       "        vertical-align: middle;\n",
       "    }\n",
       "\n",
       "    .dataframe tbody tr th {\n",
       "        vertical-align: top;\n",
       "    }\n",
       "\n",
       "    .dataframe thead th {\n",
       "        text-align: right;\n",
       "    }\n",
       "</style>\n",
       "<table border=\"1\" class=\"dataframe\">\n",
       "  <thead>\n",
       "    <tr style=\"text-align: right;\">\n",
       "      <th></th>\n",
       "      <th>month</th>\n",
       "      <th>profit</th>\n",
       "      <th>color</th>\n",
       "    </tr>\n",
       "  </thead>\n",
       "  <tbody>\n",
       "    <tr>\n",
       "      <th>0</th>\n",
       "      <td>9</td>\n",
       "      <td>-458.85</td>\n",
       "      <td>red</td>\n",
       "    </tr>\n",
       "  </tbody>\n",
       "</table>\n",
       "</div>"
      ],
      "text/plain": [
       "   month  profit color\n",
       "0      9 -458.85   red"
      ]
     },
     "execution_count": 11,
     "metadata": {},
     "output_type": "execute_result"
    }
   ],
   "source": [
    "weekly_growth"
   ]
  },
  {
   "cell_type": "code",
   "execution_count": 13,
   "metadata": {},
   "outputs": [
    {
     "data": {
      "text/html": [
       "<div>\n",
       "<style scoped>\n",
       "    .dataframe tbody tr th:only-of-type {\n",
       "        vertical-align: middle;\n",
       "    }\n",
       "\n",
       "    .dataframe tbody tr th {\n",
       "        vertical-align: top;\n",
       "    }\n",
       "\n",
       "    .dataframe thead th {\n",
       "        text-align: right;\n",
       "    }\n",
       "</style>\n",
       "<table border=\"1\" class=\"dataframe\">\n",
       "  <thead>\n",
       "    <tr style=\"text-align: right;\">\n",
       "      <th></th>\n",
       "      <th>date</th>\n",
       "      <th>type</th>\n",
       "      <th>volume</th>\n",
       "      <th>position_id</th>\n",
       "      <th>price</th>\n",
       "      <th>commission</th>\n",
       "      <th>swap</th>\n",
       "      <th>profit</th>\n",
       "      <th>fee</th>\n",
       "      <th>symbol</th>\n",
       "      <th>week</th>\n",
       "      <th>month</th>\n",
       "    </tr>\n",
       "  </thead>\n",
       "  <tbody>\n",
       "    <tr>\n",
       "      <th>0</th>\n",
       "      <td>2023-09-29</td>\n",
       "      <td>0</td>\n",
       "      <td>0.05</td>\n",
       "      <td>628063529</td>\n",
       "      <td>1855.01</td>\n",
       "      <td>-0.14</td>\n",
       "      <td>0.0</td>\n",
       "      <td>-2.13</td>\n",
       "      <td>0.0</td>\n",
       "      <td>XAUUSD</td>\n",
       "      <td>39</td>\n",
       "      <td>9</td>\n",
       "    </tr>\n",
       "    <tr>\n",
       "      <th>1</th>\n",
       "      <td>2023-09-29</td>\n",
       "      <td>0</td>\n",
       "      <td>0.02</td>\n",
       "      <td>628003987</td>\n",
       "      <td>1868.62</td>\n",
       "      <td>-0.06</td>\n",
       "      <td>0.0</td>\n",
       "      <td>3.27</td>\n",
       "      <td>0.0</td>\n",
       "      <td>XAUUSD</td>\n",
       "      <td>39</td>\n",
       "      <td>9</td>\n",
       "    </tr>\n",
       "    <tr>\n",
       "      <th>2</th>\n",
       "      <td>2023-09-29</td>\n",
       "      <td>0</td>\n",
       "      <td>0.10</td>\n",
       "      <td>627946859</td>\n",
       "      <td>1868.13</td>\n",
       "      <td>-0.28</td>\n",
       "      <td>0.0</td>\n",
       "      <td>0.00</td>\n",
       "      <td>0.0</td>\n",
       "      <td>XAUUSD</td>\n",
       "      <td>39</td>\n",
       "      <td>9</td>\n",
       "    </tr>\n",
       "    <tr>\n",
       "      <th>3</th>\n",
       "      <td>2023-09-29</td>\n",
       "      <td>1</td>\n",
       "      <td>0.05</td>\n",
       "      <td>627946859</td>\n",
       "      <td>1869.14</td>\n",
       "      <td>-0.14</td>\n",
       "      <td>0.0</td>\n",
       "      <td>4.77</td>\n",
       "      <td>0.0</td>\n",
       "      <td>XAUUSD</td>\n",
       "      <td>39</td>\n",
       "      <td>9</td>\n",
       "    </tr>\n",
       "    <tr>\n",
       "      <th>4</th>\n",
       "      <td>2023-09-29</td>\n",
       "      <td>1</td>\n",
       "      <td>0.02</td>\n",
       "      <td>627946859</td>\n",
       "      <td>1869.14</td>\n",
       "      <td>-0.06</td>\n",
       "      <td>0.0</td>\n",
       "      <td>1.91</td>\n",
       "      <td>0.0</td>\n",
       "      <td>XAUUSD</td>\n",
       "      <td>39</td>\n",
       "      <td>9</td>\n",
       "    </tr>\n",
       "    <tr>\n",
       "      <th>...</th>\n",
       "      <td>...</td>\n",
       "      <td>...</td>\n",
       "      <td>...</td>\n",
       "      <td>...</td>\n",
       "      <td>...</td>\n",
       "      <td>...</td>\n",
       "      <td>...</td>\n",
       "      <td>...</td>\n",
       "      <td>...</td>\n",
       "      <td>...</td>\n",
       "      <td>...</td>\n",
       "      <td>...</td>\n",
       "    </tr>\n",
       "    <tr>\n",
       "      <th>668</th>\n",
       "      <td>2023-09-01</td>\n",
       "      <td>0</td>\n",
       "      <td>0.05</td>\n",
       "      <td>624029498</td>\n",
       "      <td>1949.68</td>\n",
       "      <td>-0.14</td>\n",
       "      <td>0.0</td>\n",
       "      <td>10.95</td>\n",
       "      <td>0.0</td>\n",
       "      <td>XAUUSD</td>\n",
       "      <td>35</td>\n",
       "      <td>9</td>\n",
       "    </tr>\n",
       "    <tr>\n",
       "      <th>669</th>\n",
       "      <td>2023-09-01</td>\n",
       "      <td>1</td>\n",
       "      <td>0.05</td>\n",
       "      <td>624029265</td>\n",
       "      <td>1951.60</td>\n",
       "      <td>-0.14</td>\n",
       "      <td>0.0</td>\n",
       "      <td>0.00</td>\n",
       "      <td>0.0</td>\n",
       "      <td>XAUUSD</td>\n",
       "      <td>35</td>\n",
       "      <td>9</td>\n",
       "    </tr>\n",
       "    <tr>\n",
       "      <th>670</th>\n",
       "      <td>2023-09-01</td>\n",
       "      <td>0</td>\n",
       "      <td>0.02</td>\n",
       "      <td>624029265</td>\n",
       "      <td>1951.55</td>\n",
       "      <td>-0.06</td>\n",
       "      <td>0.0</td>\n",
       "      <td>0.09</td>\n",
       "      <td>0.0</td>\n",
       "      <td>XAUUSD</td>\n",
       "      <td>35</td>\n",
       "      <td>9</td>\n",
       "    </tr>\n",
       "    <tr>\n",
       "      <th>671</th>\n",
       "      <td>2023-09-01</td>\n",
       "      <td>1</td>\n",
       "      <td>0.05</td>\n",
       "      <td>624078663</td>\n",
       "      <td>1934.88</td>\n",
       "      <td>-0.14</td>\n",
       "      <td>0.0</td>\n",
       "      <td>0.00</td>\n",
       "      <td>0.0</td>\n",
       "      <td>XAUUSD</td>\n",
       "      <td>35</td>\n",
       "      <td>9</td>\n",
       "    </tr>\n",
       "    <tr>\n",
       "      <th>672</th>\n",
       "      <td>2023-09-01</td>\n",
       "      <td>0</td>\n",
       "      <td>0.05</td>\n",
       "      <td>624078663</td>\n",
       "      <td>1935.97</td>\n",
       "      <td>-0.14</td>\n",
       "      <td>0.0</td>\n",
       "      <td>-5.04</td>\n",
       "      <td>0.0</td>\n",
       "      <td>XAUUSD</td>\n",
       "      <td>35</td>\n",
       "      <td>9</td>\n",
       "    </tr>\n",
       "  </tbody>\n",
       "</table>\n",
       "<p>672 rows × 12 columns</p>\n",
       "</div>"
      ],
      "text/plain": [
       "          date  type  volume  position_id    price  commission  swap  profit  \\\n",
       "0   2023-09-29     0    0.05    628063529  1855.01       -0.14   0.0   -2.13   \n",
       "1   2023-09-29     0    0.02    628003987  1868.62       -0.06   0.0    3.27   \n",
       "2   2023-09-29     0    0.10    627946859  1868.13       -0.28   0.0    0.00   \n",
       "3   2023-09-29     1    0.05    627946859  1869.14       -0.14   0.0    4.77   \n",
       "4   2023-09-29     1    0.02    627946859  1869.14       -0.06   0.0    1.91   \n",
       "..         ...   ...     ...          ...      ...         ...   ...     ...   \n",
       "668 2023-09-01     0    0.05    624029498  1949.68       -0.14   0.0   10.95   \n",
       "669 2023-09-01     1    0.05    624029265  1951.60       -0.14   0.0    0.00   \n",
       "670 2023-09-01     0    0.02    624029265  1951.55       -0.06   0.0    0.09   \n",
       "671 2023-09-01     1    0.05    624078663  1934.88       -0.14   0.0    0.00   \n",
       "672 2023-09-01     0    0.05    624078663  1935.97       -0.14   0.0   -5.04   \n",
       "\n",
       "     fee  symbol  week  month  \n",
       "0    0.0  XAUUSD    39      9  \n",
       "1    0.0  XAUUSD    39      9  \n",
       "2    0.0  XAUUSD    39      9  \n",
       "3    0.0  XAUUSD    39      9  \n",
       "4    0.0  XAUUSD    39      9  \n",
       "..   ...     ...   ...    ...  \n",
       "668  0.0  XAUUSD    35      9  \n",
       "669  0.0  XAUUSD    35      9  \n",
       "670  0.0  XAUUSD    35      9  \n",
       "671  0.0  XAUUSD    35      9  \n",
       "672  0.0  XAUUSD    35      9  \n",
       "\n",
       "[672 rows x 12 columns]"
      ]
     },
     "execution_count": 13,
     "metadata": {},
     "output_type": "execute_result"
    }
   ],
   "source": [
    "result_df"
   ]
  },
  {
   "cell_type": "code",
   "execution_count": null,
   "metadata": {},
   "outputs": [],
   "source": [
    "deposit  =sum(df.loc[df.type == 2].profit.tolist())\n",
    "deposit"
   ]
  },
  {
   "cell_type": "code",
   "execution_count": null,
   "metadata": {},
   "outputs": [],
   "source": [
    "def total_trades(df):\n",
    "    df_sys = df.loc[df['type'] == 0]\n",
    "    total_trades = df_sys['position_id'].nunique()\n",
    "    return total_trades\n"
   ]
  },
  {
   "cell_type": "code",
   "execution_count": null,
   "metadata": {},
   "outputs": [],
   "source": [
    "df_sys = df.loc[df['type'] == 0]"
   ]
  },
  {
   "cell_type": "code",
   "execution_count": null,
   "metadata": {},
   "outputs": [],
   "source": [
    "total_trades = df_sys['position_id'].nunique()\n",
    "total_trades"
   ]
  },
  {
   "cell_type": "code",
   "execution_count": 15,
   "metadata": {},
   "outputs": [],
   "source": [
    "def total_trade_counts(date: pd.DataFrame) -> int:\n",
    "    \"\"\"\n",
    "    Calculate the total number of trades made on a given date.\n",
    "\n",
    "    Args:\n",
    "        df (pd.DataFrame): A DataFrame containing trading data with a 'type', 'date', and 'position_id' column.\n",
    "\n",
    "    Returns:\n",
    "        int: The total number of trades made on the specified date.\n",
    "    \"\"\"\n",
    "    # Filter rows with 'type' equal to 0 ( 0 represents trade)\n",
    "    df_trade = df.loc[df.type == 0]\n",
    "\n",
    "    # Group by 'date' and 'position_id', and count the number of trades ('counts' column)\n",
    "    df_trade = df_trade.groupby(by = ['date','position_id']).size().reset_index(name='counts')\n",
    "\n",
    "    # Sort the DataFrame by trade counts in descending order\n",
    "    df_trade = df_trade.sort_values('counts', ascending = False)\n",
    "\n",
    "    # Get the total number of trades by counting the number of rows in the DataFrame\n",
    "    total_trades  = df_trade.shape[0]\n",
    "\n",
    "    return total_trades "
   ]
  },
  {
   "cell_type": "code",
   "execution_count": 16,
   "metadata": {},
   "outputs": [
    {
     "data": {
      "text/plain": [
       "299"
      ]
     },
     "execution_count": 16,
     "metadata": {},
     "output_type": "execute_result"
    }
   ],
   "source": [
    "total_trade_counts(df)"
   ]
  },
  {
   "cell_type": "code",
   "execution_count": 17,
   "metadata": {},
   "outputs": [],
   "source": [
    "def total_trades(df: pd.DataFrame) -> int:\n",
    "    \"\"\"\n",
    "    Calculate the total number of unique trades in a DataFrame.\n",
    "\n",
    "    Args:\n",
    "        df (pd.DataFrame): A DataFrame containing trading data with a 'type' column.\n",
    "\n",
    "    Returns:\n",
    "        int: The total number of unique trades.\n",
    "\n",
    "    Example:\n",
    "        df = pd.DataFrame({\n",
    "            'position_id': [1, 2, 3, 4, 5],\n",
    "            'type': [0, 1, 0, 0, 1]\n",
    "        })\n",
    "\n",
    "        total = total_trades(df)\n",
    "        print(total)\n",
    "\n",
    "    Output:\n",
    "        3\n",
    "    \"\"\"\n",
    "    # Filter rows where 'type' is equal to 0 (assuming 'type' 0 represents trades)\n",
    "    df_sys = df.loc[df['type'] == 0]\n",
    "\n",
    "    # Calculate the total number of unique trades based on 'position_id'\n",
    "    total_trades = df_sys['position_id'].nunique()\n",
    "\n",
    "    return total_trades"
   ]
  },
  {
   "cell_type": "code",
   "execution_count": 21,
   "metadata": {},
   "outputs": [
    {
     "data": {
      "text/plain": [
       "299"
      ]
     },
     "execution_count": 21,
     "metadata": {},
     "output_type": "execute_result"
    }
   ],
   "source": [
    "total_trades(df)"
   ]
  },
  {
   "cell_type": "code",
   "execution_count": null,
   "metadata": {},
   "outputs": [],
   "source": [
    "def get_pip_profit_loss(df):\n",
    "\n",
    "    df['total_profit'] = df.commission + df.swap + df.profit\n",
    "    df_pip_cal = df[['date','position_id','price','symbol','total_profit']]\n",
    "    df_pip_cal['profit_loss'] = df_pip_cal['total_profit'].apply(lambda x: 'neg' if x < 0 else 'pos')\n",
    "    df_pip_cal['date_pos_id'] = df_pip_cal.date.astype(str) + '_' + df_pip_cal.position_id.astype(str) + '_'+ df_pip_cal.profit_loss\n",
    "    df_pip_cal_gb = df_pip_cal.groupby('date_pos_id')['price'].agg(max_price=max, min_price=min).reset_index()\n",
    "    df_pip_cal_gb['pips'] = (df_pip_cal_gb['max_price'] - df_pip_cal_gb['min_price'])*10\n",
    "    # Split the 'date_position' column into two columns: 'date' and 'position_id'\n",
    "    df_pip_cal_gb[['date', 'position_id', 'p/l']] = df_pip_cal_gb['date_pos_id'].str.split('_', expand=True)\n",
    "\n",
    "    # Drop the 'date_position' column if you no longer need it\n",
    "    df_pip_cal_gb.drop('date_pos_id', axis=1, inplace=True)\n",
    "    df_pip_cal_gb = df_pip_cal_gb[['date','pips','p/l']]\n",
    "    # Make 'pips' negative where 'p/l' is 'neg'\n",
    "    df_pip_cal_gb.loc[df_pip_cal_gb['p/l'] == 'neg', 'pips'] = -df_pip_cal_gb.loc[df_pip_cal_gb['p/l'] == 'neg', 'pips']\n",
    "    return df_pip_cal_gb\n",
    "\n",
    "get_pip_profit_loss(df)\n"
   ]
  },
  {
   "cell_type": "code",
   "execution_count": null,
   "metadata": {},
   "outputs": [],
   "source": [
    "df['total_profit'] = df.commission + df.swap + df.profit\n",
    "\n"
   ]
  },
  {
   "cell_type": "code",
   "execution_count": null,
   "metadata": {},
   "outputs": [],
   "source": [
    "df_pip_cal = df[['date','position_id','price','symbol','total_profit']]\n",
    "df_pip_cal.head(3)"
   ]
  },
  {
   "cell_type": "code",
   "execution_count": null,
   "metadata": {},
   "outputs": [],
   "source": [
    "df_pip_cal['profit_loss'] = df_pip_cal['total_profit'].apply(lambda x: 'neg' if x < 0 else 'pos')\n"
   ]
  },
  {
   "cell_type": "code",
   "execution_count": null,
   "metadata": {},
   "outputs": [],
   "source": [
    "df_pip_cal['date_pos_id'] = df_pip_cal.date.astype(str) + '_' + df_pip_cal.position_id.astype(str) + '_'+ df_pip_cal.profit_loss\n",
    "df_pip_cal.head(3)"
   ]
  },
  {
   "cell_type": "code",
   "execution_count": null,
   "metadata": {},
   "outputs": [],
   "source": [
    "df_pip_cal_gb = df_pip_cal.groupby('date_pos_id')['price'].agg(max_price=max, min_price=min).reset_index()\n",
    "df_pip_cal_gb['pips'] = (df_pip_cal_gb['max_price'] - df_pip_cal_gb['min_price'])*10\n",
    "df_pip_cal_gb"
   ]
  },
  {
   "cell_type": "code",
   "execution_count": null,
   "metadata": {},
   "outputs": [],
   "source": [
    "# Split the 'date_position' column into two columns: 'date' and 'position_id'\n",
    "df_pip_cal_gb[['date', 'position_id', 'p/l']] = df_pip_cal_gb['date_pos_id'].str.split('_', expand=True)\n",
    "\n",
    "# Drop the 'date_position' column if you no longer need it\n",
    "df_pip_cal_gb.drop('date_pos_id', axis=1, inplace=True)"
   ]
  },
  {
   "cell_type": "code",
   "execution_count": null,
   "metadata": {},
   "outputs": [],
   "source": [
    "df_pip_cal_gb.head()"
   ]
  },
  {
   "cell_type": "code",
   "execution_count": null,
   "metadata": {},
   "outputs": [],
   "source": [
    "df_pip_cal_gb = df_pip_cal_gb[['date','pips','p/l']]\n",
    "df_pip_cal_gb.head()"
   ]
  },
  {
   "cell_type": "code",
   "execution_count": null,
   "metadata": {},
   "outputs": [],
   "source": [
    "df_pip_cal_gb = df_pip_cal_gb.sort_values('date', ascending=False)\n",
    "df_pip_cal_gb.head()"
   ]
  },
  {
   "cell_type": "code",
   "execution_count": null,
   "metadata": {},
   "outputs": [],
   "source": [
    "# Make 'pips' negative where 'p/l' is 'neg'\n",
    "df_pip_cal_gb.loc[df_pip_cal_gb['p/l'] == 'neg', 'pips'] = -df_pip_cal_gb.loc[df_pip_cal_gb['p/l'] == 'neg', 'pips']"
   ]
  },
  {
   "cell_type": "code",
   "execution_count": null,
   "metadata": {},
   "outputs": [],
   "source": [
    "df_pip_cal_gb.head()"
   ]
  },
  {
   "cell_type": "code",
   "execution_count": null,
   "metadata": {},
   "outputs": [],
   "source": []
  },
  {
   "cell_type": "code",
   "execution_count": null,
   "metadata": {},
   "outputs": [],
   "source": [
    "df_swaps = df.groupby(by='date')['swap'].sum().reset_index()\n",
    "df_swaps = df_swaps.sort_values(by=['date'], ascending = False)\n",
    "swaps = df_swaps['swap'][0]\n",
    "swaps"
   ]
  },
  {
   "cell_type": "code",
   "execution_count": null,
   "metadata": {},
   "outputs": [],
   "source": []
  },
  {
   "cell_type": "code",
   "execution_count": null,
   "metadata": {},
   "outputs": [],
   "source": []
  },
  {
   "cell_type": "code",
   "execution_count": null,
   "metadata": {},
   "outputs": [],
   "source": []
  },
  {
   "cell_type": "code",
   "execution_count": null,
   "metadata": {},
   "outputs": [],
   "source": []
  },
  {
   "cell_type": "code",
   "execution_count": null,
   "metadata": {},
   "outputs": [],
   "source": [
    "df_growth = get_portfolio_growth(df,profit = False)\n",
    "current_portfolio_value = df_growth.sort_values(by = 'date', ascending = False)['growth'].to_list()[0]\n",
    "total_profit_or_Loss = round(current_portfolio_value/(deposit)*100,1)\n",
    "total_profit_or_Loss_eur = round((current_portfolio_value - deposit),2)\n",
    "total_profit_or_Loss_eur"
   ]
  },
  {
   "cell_type": "code",
   "execution_count": null,
   "metadata": {},
   "outputs": [],
   "source": [
    "total_profit_or_Loss -100"
   ]
  },
  {
   "cell_type": "code",
   "execution_count": null,
   "metadata": {},
   "outputs": [],
   "source": [
    "df_profit"
   ]
  },
  {
   "cell_type": "code",
   "execution_count": null,
   "metadata": {},
   "outputs": [],
   "source": [
    "df_growth"
   ]
  },
  {
   "cell_type": "code",
   "execution_count": null,
   "metadata": {},
   "outputs": [],
   "source": [
    "Percentage_Gain_or_Loss = round(profit_or_Loss/(current_portfolio_value - abs(profit_or_Loss) )*100,1)\n",
    "Percentage_Gain_or_Loss"
   ]
  },
  {
   "cell_type": "code",
   "execution_count": null,
   "metadata": {},
   "outputs": [],
   "source": [
    "df_commission = df.groupby(by='date')['commission'].sum().reset_index()\n",
    "df_commission = df_commission.sort_values(by='date', ascending = False).reset_index()\n",
    "df_commission = df_commission.drop(columns = ['index'])\n",
    "commissions = round(df_commission.commission.to_list()[0],2)\n",
    "commissions\n",
    "\n"
   ]
  },
  {
   "cell_type": "code",
   "execution_count": null,
   "metadata": {},
   "outputs": [],
   "source": [
    "df_sym = df.loc[df['type'] == 0]\n",
    "commodity = df_sym.groupby(by=['date','symbol']).size().reset_index(name = 'count')\n",
    "result = commodity.groupby('date').agg({'symbol': list, 'count': list}).reset_index()\n",
    "result"
   ]
  },
  {
   "cell_type": "code",
   "execution_count": null,
   "metadata": {},
   "outputs": [],
   "source": [
    "result_ord = result.sort_values(by=['date'], ascending=False).reset_index()\n",
    "result_ord = result_ord.drop(columns = ['index'])\n",
    "\n",
    "result_ord"
   ]
  },
  {
   "cell_type": "code",
   "execution_count": null,
   "metadata": {},
   "outputs": [],
   "source": [
    "symbol_list = result_ord.loc[1, 'symbol']\n",
    "symbol_len = len(symbol_list)\n",
    "if symbol_len != 1:\n",
    "    for i in range(symbol_len):\n",
    "\n",
    "        symbol_dict ={'symbol':result_ord.loc[1, 'symbol'][i],\n",
    "                    'count':result_ord.loc[1, 'count'][i]}\n",
    "\n",
    "    symbol_dict\n",
    "else:\n",
    "    symbol_list = result_ord.loc[1, 'symbol']\n",
    "        \n",
    "\n",
    "symbol_dict"
   ]
  },
  {
   "cell_type": "code",
   "execution_count": null,
   "metadata": {},
   "outputs": [],
   "source": [
    "# Assuming 'result_ord' is your DataFrame and you want to process the second row\n",
    "symbol_dict = {}  # Create an empty dictionary to store symbol-count pairs\n",
    "\n",
    "for i in range(len(result_ord.loc[1, 'symbol'])):\n",
    "    symbol = result_ord.loc[1, 'symbol'][i]\n",
    "    count = result_ord.loc[1, 'count'][i]\n",
    "    \n",
    "    # Update the symbol_dict with the symbol-count pair\n",
    "    symbol_dict[symbol] = count\n",
    "\n",
    "# Print the resulting dictionary\n",
    "# Convert the dictionary into a DataFrame\n",
    "df = pd.DataFrame.from_dict(symbol_dict, orient='index', columns=['count']).reset_index()\n",
    "df.rename(columns={'index': 'symbol'}, inplace=True)\n",
    "\n",
    "# Print the DataFrame\n",
    "print(df)"
   ]
  },
  {
   "cell_type": "code",
   "execution_count": null,
   "metadata": {},
   "outputs": [],
   "source": [
    "import pandas as pd\n",
    "\n",
    "def create_symbol_count_dataframe(dataframe, row_index):\n",
    "    \"\"\"\n",
    "    Converts symbol and count data from a specific row of a DataFrame\n",
    "    into a pandas DataFrame.\n",
    "\n",
    "    Args:\n",
    "        dataframe (pd.DataFrame): The DataFrame containing the data.\n",
    "        row_index (int): The index of the row to process.\n",
    "\n",
    "    Returns:\n",
    "        pd.DataFrame: A DataFrame containing symbol-count pairs.\n",
    "    \"\"\"\n",
    "    symbol_dict = {}  # Create an empty dictionary to store symbol-count pairs\n",
    "\n",
    "    for i in range(len(dataframe.loc[row_index, 'symbol'])):\n",
    "        symbol = dataframe.loc[row_index, 'symbol'][i]\n",
    "        count = dataframe.loc[row_index, 'count'][i]\n",
    "\n",
    "        # Update the symbol_dict with the symbol-count pair\n",
    "        symbol_dict[symbol] = count\n",
    "\n",
    "    # Convert the dictionary into a DataFrame\n",
    "    df = pd.DataFrame.from_dict(symbol_dict, orient='index', columns=['count']).reset_index()\n",
    "    df.rename(columns={'index': 'symbol'}, inplace=True)\n",
    "\n",
    "    return df\n",
    "\n",
    "\n",
    "row_index = 1  # Choose the row you want to process\n",
    "symbol_count_df = create_symbol_count_dataframe(result_ord, row_index)\n",
    "\n",
    "# Print the resulting DataFrame\n",
    "print(symbol_count_df)\n"
   ]
  },
  {
   "cell_type": "code",
   "execution_count": null,
   "metadata": {},
   "outputs": [],
   "source": [
    "len(symbol_count_df)"
   ]
  },
  {
   "cell_type": "code",
   "execution_count": null,
   "metadata": {},
   "outputs": [],
   "source": []
  },
  {
   "cell_type": "code",
   "execution_count": null,
   "metadata": {},
   "outputs": [],
   "source": [
    "df['date'] = pd.to_datetime(df['date'])\n",
    "#result_df = df.loc[df['type'] != 2]\n",
    "# result_df.loc[:, 'total_profit'] = result_df['profit'] + result_df['swap'] + result_df['commission'] + result_df['fee']\n",
    "# result_df = result_df.groupby('date')['total_profit'].sum().reset_index()\n",
    "\n",
    "\n",
    "deposit  =sum(df.loc[df.type == 2].profit.tolist())\n",
    "#result_df.loc[:, 'total_profit'] = result_df['total_profit'] + deposit\n",
    "\n",
    "\n",
    "# result_df.columns = ['date', 'growth']\n",
    "# result_df = result_df.sort_values(by='date', ascending = False )\n",
    "\n",
    "# Print the result\n",
    "\n",
    "deposit"
   ]
  },
  {
   "cell_type": "code",
   "execution_count": null,
   "metadata": {},
   "outputs": [],
   "source": [
    "initial_deposit = 700\n",
    "result_df['daily_balance'] = initial_deposit + result_df['total_profit'].cumsum()"
   ]
  },
  {
   "cell_type": "code",
   "execution_count": null,
   "metadata": {},
   "outputs": [],
   "source": [
    "result_df"
   ]
  },
  {
   "cell_type": "code",
   "execution_count": null,
   "metadata": {},
   "outputs": [],
   "source": [
    "df['date'] = pd.to_datetime(df['date'])\n",
    "result_df = df.loc[df['type'] != 2]\n",
    "result_df.loc[:, 'total_profit'] = result_df['profit'] + result_df['swap'] + result_df['commission'] + result_df['fee']\n",
    "result_df = result_df.groupby('date')['total_profit'].sum().reset_index()\n",
    "\n",
    "\n",
    "deposit  =df.loc[df.type == 2].profit.tolist()[0]\n",
    "result_df.loc[:, 'daily_balance'] =  deposit + result_df['total_profit'].cumsum()\n",
    "result_df.columns = ['date', 'daily_profit','growth']\n",
    "\n",
    "\n",
    "#result_df.columns = ['date', 'growth']\n",
    "result_df = result_df.sort_values(by='date', ascending = False )\n",
    "\n",
    "# Print the result\n",
    "result_df"
   ]
  },
  {
   "cell_type": "code",
   "execution_count": null,
   "metadata": {},
   "outputs": [],
   "source": [
    "df_commision = df.groupby(by='date')['commission'].sum().reset_index()\n",
    "commisions = df_commision.commission.sum()\n",
    "commisions"
   ]
  },
  {
   "cell_type": "code",
   "execution_count": null,
   "metadata": {},
   "outputs": [],
   "source": [
    "df_profitloss  =df.copy()"
   ]
  },
  {
   "cell_type": "code",
   "execution_count": null,
   "metadata": {},
   "outputs": [],
   "source": []
  },
  {
   "cell_type": "code",
   "execution_count": null,
   "metadata": {},
   "outputs": [],
   "source": [
    "def profit_loss_df(df):\n",
    "\n",
    "    df_profitloss  =df.copy()\n",
    "    df_profitloss.loc[:, 'total_profit'] = df['profit'] + df['swap'] + df['commission'] + df['fee']\n",
    "    df_profitloss = df_profitloss.loc[df_profitloss.type ==0]\n",
    "    df_profitloss = df_profitloss.groupby(by='date')['total_profit'].sum().reset_index()\n",
    "\n",
    "    # Create new DataFrames for positive and negative profits\n",
    "    positive_df = df_profitloss[df_profitloss['total_profit'] > 0].copy()\n",
    "    negative_df = df_profitloss[df_profitloss['total_profit'] < 0].copy()\n",
    "\n",
    "    # Rename the 'Profit' column in each new DataFrame\n",
    "    positive_df.rename(columns={'Profit': 'Profit'}, inplace=True)\n",
    "    negative_df.rename(columns={'Profit': 'Loss'}, inplace=True)\n",
    "\n",
    "    # Reset the index for both new DataFrames\n",
    "    positive_df.reset_index(drop=True, inplace=True)\n",
    "    negative_df.reset_index(drop=True, inplace=True)\n",
    "\n",
    "    # positive_df = positive_df[['date','profit']]\n",
    "    # negative_df = negative_df[['date','profit']]\n",
    "\n",
    "    return positive_df, negative_df\n",
    "\n",
    "positive_df, negative_df = profit_loss_df(df)\n"
   ]
  },
  {
   "cell_type": "code",
   "execution_count": null,
   "metadata": {},
   "outputs": [],
   "source": [
    "negative_df"
   ]
  },
  {
   "cell_type": "code",
   "execution_count": null,
   "metadata": {},
   "outputs": [],
   "source": [
    "# number of trades taken \n",
    "df_trade = df.loc[df['type'] == 0]\n",
    "df_trade = df_trade.groupby(by = 'date').size().reset_index(name='count')\n",
    "df_trade = df_trade.sort_values(by='date', ascending = False)['count'].to_list()[0]\n",
    "df_trade"
   ]
  },
  {
   "cell_type": "code",
   "execution_count": null,
   "metadata": {},
   "outputs": [],
   "source": [
    "\n",
    "df_sym.head()"
   ]
  },
  {
   "cell_type": "code",
   "execution_count": null,
   "metadata": {},
   "outputs": [],
   "source": [
    "def plot_piechat(df):\n",
    "\n",
    "    df_sym = df.loc[df['type'] != 2]\n",
    "    commodity = df_sym.groupby(by=['symbol']).size().reset_index(name  ='count')\n",
    "    fig = px.pie(commodity, values= commodity['count'], names=commodity['symbol'], color_discrete_sequence=px.colors.sequential.RdBu)\n",
    "    return fig"
   ]
  },
  {
   "cell_type": "code",
   "execution_count": null,
   "metadata": {},
   "outputs": [],
   "source": [
    "df_profit = get_portfolio_growth(df)\n",
    "df_profit.head()"
   ]
  },
  {
   "cell_type": "code",
   "execution_count": null,
   "metadata": {},
   "outputs": [],
   "source": [
    "df_growth = get_portfolio_growth(df, profit = False)\n",
    "df_growth.head()"
   ]
  },
  {
   "cell_type": "code",
   "execution_count": null,
   "metadata": {},
   "outputs": [],
   "source": [
    "current_portfolio_value = df_growth.sort_values(by = 'date', ascending = False)['growth'].to_list()[0]\n",
    "current_portfolio_value"
   ]
  },
  {
   "cell_type": "code",
   "execution_count": null,
   "metadata": {},
   "outputs": [],
   "source": [
    "profil_or_Loss = df_profit.sort_values(by = 'date', ascending = False)['growth'].to_list()[0]\n",
    "profil_or_Loss"
   ]
  },
  {
   "cell_type": "code",
   "execution_count": null,
   "metadata": {},
   "outputs": [],
   "source": [
    "Percentage_Gain_or_Loss = round(profil_or_Loss/(current_portfolio_value + abs(profil_or_Loss))*100,1)\n",
    "Percentage_Gain_or_Loss"
   ]
  },
  {
   "cell_type": "code",
   "execution_count": null,
   "metadata": {},
   "outputs": [],
   "source": [
    "deposit  =df.loc[df.type == 2].profit.tolist()[0]\n",
    "deposit"
   ]
  },
  {
   "cell_type": "code",
   "execution_count": null,
   "metadata": {},
   "outputs": [],
   "source": [
    "result_df = df.loc[df.type != 2]"
   ]
  },
  {
   "cell_type": "code",
   "execution_count": null,
   "metadata": {},
   "outputs": [],
   "source": [
    "\n",
    "result_df.loc[:, 'total_profit'] = result_df['profit'] + result_df['swap'] + result_df['commission'] + result_df['fee']\n"
   ]
  },
  {
   "cell_type": "code",
   "execution_count": null,
   "metadata": {},
   "outputs": [],
   "source": [
    "result_df.head()"
   ]
  },
  {
   "cell_type": "code",
   "execution_count": null,
   "metadata": {},
   "outputs": [],
   "source": [
    "# Using .loc to assign the values\n",
    "result_df.loc[:, 'total_profit'] = result_df['total_profit'] + deposit\n"
   ]
  },
  {
   "cell_type": "code",
   "execution_count": null,
   "metadata": {},
   "outputs": [],
   "source": [
    "result_df.head()"
   ]
  },
  {
   "cell_type": "code",
   "execution_count": null,
   "metadata": {},
   "outputs": [],
   "source": [
    "def get_pip_profit_loss(df: pd.DataFrame) -> pd.DataFrame:\n",
    "    \"\"\"\n",
    "    Calculate pip profit or loss for each position in a DataFrame.\n",
    "    This analysis would be only valid for it to make senc only if you trade with a\n",
    "    constant lot size!\n",
    "\n",
    "    Args:\n",
    "        df (pd.DataFrame): A DataFrame containing the following columns:\n",
    "            - 'date': Date of the position.\n",
    "            - 'position_id': Unique identifier for each position.\n",
    "            - 'price': Price of the position.\n",
    "            - 'symbol': Symbol of the position.\n",
    "            - 'commission': Commission for the position.\n",
    "            - 'swap': Swap for the position.\n",
    "            - 'profit': Profit for the position.\n",
    "\n",
    "    Returns:\n",
    "        pd.DataFrame: A DataFrame with the following columns:\n",
    "            - 'date': Date of the position.\n",
    "            - 'pips': Pip profit or loss for the position.\n",
    "            - 'p/l': 'pos' for positive profit, 'neg' for negative profit.\n",
    "\n",
    "    Example:\n",
    "        df = pd.DataFrame({\n",
    "            'date': ['2023-09-01', '2023-09-01', '2023-09-02'],\n",
    "            'position_id': [1, 2, 3],\n",
    "            'price': [100.0, 105.0, 98.0],\n",
    "            'symbol': ['EURUSD', 'USDJPY', 'GBPUSD'],\n",
    "            'commission': [5.0, 7.0, 4.0],\n",
    "            'swap': [2.0, -1.0, 0.0],\n",
    "            'profit': [10.0, -5.0, 8.0]\n",
    "        })\n",
    "\n",
    "        result_df = get_pip_profit_loss(df)\n",
    "        print(result_df)\n",
    "\n",
    "    Output:\n",
    "            date  pips  p/l\n",
    "        0  2023-09-01  50.0  pos\n",
    "        1  2023-09-01 -50.0  neg\n",
    "        2  2023-09-02   0.0  pos\n",
    "    \"\"\"\n",
    "    # Calculate total profit for each position\n",
    "    df['total_profit'] = df['commission'] + df['swap'] + df['profit']\n",
    "\n",
    "    # Create a DataFrame with relevant columns\n",
    "    df_pip_cal = df[['date', 'position_id', 'price', 'symbol', 'total_profit']]\n",
    "\n",
    "    # Determine profit/loss status ('pos' or 'neg')\n",
    "    df_pip_cal['profit_loss'] = df_pip_cal['total_profit'].apply(lambda x: 'neg' if x < 0 else 'pos')\n",
    "\n",
    "    # Create a unique identifier for each position\n",
    "    df_pip_cal['date_pos_id'] = df_pip_cal['date'].astype(str) + '_' + df_pip_cal['position_id'].astype(str) + '_' + df_pip_cal['profit_loss']\n",
    "\n",
    "    # Group by the unique identifier and calculate max and min prices\n",
    "    df_pip_cal_gb = df_pip_cal.groupby('date_pos_id')['price'].agg(max_price=max, min_price=min).reset_index()\n",
    "\n",
    "    # Calculate pips based on max and min prices\n",
    "    df_pip_cal_gb['pips'] = (df_pip_cal_gb['max_price'] - df_pip_cal_gb['min_price']) * 10\n",
    "\n",
    "    # Split the 'date_position' column into two columns: 'date' and 'position_id'\n",
    "    df_pip_cal_gb[['date', 'position_id', 'p/l']] = df_pip_cal_gb['date_pos_id'].str.split('_', expand=True)\n",
    "\n",
    "    # Drop the 'date_position' column if you no longer need it\n",
    "    df_pip_cal_gb.drop('date_pos_id', axis=1, inplace=True)\n",
    "\n",
    "    # Select and reorder columns\n",
    "    df_pip_cal_gb = df_pip_cal_gb[['date', 'pips', 'p/l']]\n",
    "\n",
    "    # Make 'pips' negative where 'p/l' is 'neg'\n",
    "    df_pip_cal_gb.loc[df_pip_cal_gb['p/l'] == 'neg', 'pips'] = -df_pip_cal_gb.loc[df_pip_cal_gb['p/l'] == 'neg', 'pips']\n",
    "\n",
    "    return df_pip_cal_gb"
   ]
  },
  {
   "cell_type": "code",
   "execution_count": null,
   "metadata": {},
   "outputs": [],
   "source": [
    "def calculating_pip_growth(data: pd.DataFrame) -> pd.DataFrame:\n",
    "    \"\"\"\n",
    "    Calculate pip growth based on input data.\n",
    "\n",
    "    Args:\n",
    "        data (pd.DataFrame): A DataFrame containing trading data with columns 'type', 'commission', 'swap',\n",
    "                                'profit', 'date', 'position_id', 'symbol', and 'volume'.\n",
    "\n",
    "    Returns:\n",
    "        pd.DataFrame: A DataFrame containing calculated pip growth grouped by date and symbol.\n",
    "    \"\"\"\n",
    "    # Filter out rows with 'type' equal to 2\n",
    "    df_pip = data.loc[data.type != 2]\n",
    "\n",
    "    # Calculate 'total_profit' as the sum of 'commission', 'swap', and 'profit'\n",
    "    df_pip.loc[:, 'total_profit'] = df['commission'] + df['swap'] + df['profit']\n",
    "\n",
    "    # Group by 'date', 'position_id', 'symbol', and 'volume', and sum 'total_profit'\n",
    "    df_pip_gb = df_pip.groupby(by=['date','position_id','symbol','volume'])['total_profit'].sum().reset_index()\n",
    "\n",
    "    # Group by 'date' and 'symbol', and sum 'volume' and 'total_profit'\n",
    "    df_pip_daily_gb = df_pip_gb.groupby(['date', 'symbol'])[['volume','total_profit']].sum().reset_index()\n",
    "    \n",
    "    return df_pip_daily_gb\n",
    "\n",
    "\n",
    "import pandas as pd\n",
    "from pandas.core.series import Series\n",
    "from pandas.core.frame import DataFrame\n",
    "\n",
    "# Define a function to calculate pip_growth based on the symbol\n",
    "def calculate_pip_growth(row: Series) -> float:\n",
    "    \"\"\"\n",
    "    Calculates pip_growth based on the symbol.\n",
    "\n",
    "    Args:\n",
    "        row (pandas.Series): A row from the DataFrame containing 'symbol', 'volume', and 'total_profit'.\n",
    "\n",
    "    Returns:\n",
    "        float: The calculated pip_growth value.\n",
    "    \"\"\"\n",
    "    if row['symbol'] == 'XAUUSD':\n",
    "        return round(row['total_profit'] / (row['volume'] * 100 * 0.095), 1)\n",
    "    elif row['symbol'] == 'GBPJPY':\n",
    "        return round(row['total_profit'] / (row['volume'] * 100 * 0.063), 1)\n",
    "    else:\n",
    "        return None\n",
    "\n",
    "\n",
    "def extract_latest_pip_growth(data: pd.DataFrame) -> pd.DataFrame:\n",
    "    \"\"\"\n",
    "    Extract the rows with the latest date from a DataFrame containing pip growth data.\n",
    "\n",
    "    Args:\n",
    "        data (pd.DataFrame): A DataFrame containing pip growth data with a 'date' column.\n",
    "\n",
    "    Returns:\n",
    "        pd.DataFrame: A DataFrame containing only the rows with the latest date.\n",
    "    \"\"\"\n",
    "    # Sort the DataFrame by date in descending order (latest date first)\n",
    "    data = data.sort_values('date', ascending=False)\n",
    "\n",
    "    # Extract the rows with the latest date\n",
    "    df_pip_latest = data.loc[data.date == data['date'].max()]\n",
    "\n",
    "    return df_pip_latest\n",
    "\n",
    "import plotly.graph_objects as go\n",
    "import pandas as pd\n",
    "import plotly.express as px\n",
    "\n",
    "\n",
    "def plot_pip_daily_growth(data:pd.DataFrame):\n",
    "    \"\"\"\n",
    "    Create a bar plot of pip growth with positive pip growth in green and negative pip growth in red.\n",
    "\n",
    "    Args:\n",
    "        data (pd.DataFrame): A DataFrame containing 'symbol' and 'pip_growth' columns.\n",
    "\n",
    "    Returns:\n",
    "        None: Displays the Plotly bar plot.\n",
    "    \"\"\"\n",
    "    # extracting latest pip growth from data\n",
    "    data = extract_latest_pip_growth(df_pip_daily_gb)\n",
    "    # create a barplot\n",
    "    \n",
    "    # initilize the fig object\n",
    "    fig = go.Figure()\n",
    "\n",
    "    fig = go.Figure(data=[go.Bar(\n",
    "                x=data.symbol, y=data.pip_growth,\n",
    "                text=data.symbol,\n",
    "                textposition='auto',\n",
    "                marker=dict(\n",
    "                color=data['pip_growth'].apply(lambda x: 'limegreen' if x >= 0 else 'lightcoral'),\n",
    "                line=dict(color='black', width=1)))])# Border color for bars\n",
    "    # Customize the layout\n",
    "    fig.update_layout(\n",
    "        plot_bgcolor='black',  # Background color\n",
    "        paper_bgcolor='black',  # Plot area background color\n",
    "        font=dict(color='white'),  # Text color\n",
    "        xaxis_title='symbol',\n",
    "        yaxis_title='pip_gains',\n",
    "    )\n",
    "    \n",
    "    fig.show()\n",
    "\n",
    "\n",
    "\n",
    "\n",
    "\n",
    "df_pip_daily_gb= calculating_pip_growth(df)\n",
    "# Apply the function to create the pip_growth column\n",
    "df_pip_daily_gb['pip_growth'] = df_pip_daily_gb.apply(calculate_pip_growth, axis=1)\n",
    "\n",
    "plot_pip_daily_growth(df_pip_daily_gb)"
   ]
  },
  {
   "cell_type": "code",
   "execution_count": null,
   "metadata": {},
   "outputs": [],
   "source": [
    "def get_portfolio_growth(df, profit = True) -> pd.DataFrame:\n",
    "    \n",
    "    \n",
    "    df['date'] = pd.to_datetime(df['date'])\n",
    "    result_df = df.loc[df['type'] != 2]\n",
    "    result_df.loc[:, 'total_profit'] = result_df['profit'] + result_df['swap'] + result_df['commission'] + result_df['fee']\n",
    "    result_df = result_df.groupby('date')['total_profit'].sum().reset_index()\n",
    "    \n",
    "    if profit == True:\n",
    "\n",
    "        result_df.columns = ['date', 'growth']\n",
    "\n",
    "    else:\n",
    "        deposit  =sum(df.loc[df.type == 2].profit.tolist())\n",
    "        result_df.loc[:, 'daily_balance'] =  deposit + result_df['total_profit'].cumsum()\n",
    "        result_df.columns = ['date', 'daily_profit','growth']\n",
    "\n",
    "    result_df = result_df.sort_values(by='date', ascending = False )\n",
    "\n",
    "    return result_df"
   ]
  },
  {
   "cell_type": "code",
   "execution_count": null,
   "metadata": {},
   "outputs": [],
   "source": [
    "def weekly_percentage_growth(df: pd.DataFrame) -> pd.DataFrame:\n",
    "    \"\"\"\n",
    "    Calculate weekly percentage growth and various related metrics.\n",
    "\n",
    "    Parameters:\n",
    "    - df (pandas.DataFrame): DataFrame containing at least the columns ['date', 'type', 'profit', 'swap', 'commission', 'fee']\n",
    "\n",
    "    Returns:\n",
    "    - pandas.DataFrame: DataFrame with weekly percentage growth and related metrics.\n",
    "    \"\"\"\n",
    "    # create a copy of the dataframe\n",
    "    df = df.copy()\n",
    "    \n",
    "    # Convert 'date' column to datetime format\n",
    "    df['date'] = pd.to_datetime(df['date'])\n",
    "    \n",
    "    # Calculate total deposits based on type==2 and store in variable\n",
    "    deposit  = sum(df.loc[df.type == 2].profit.tolist())\n",
    "    \n",
    "    # Filter out rows where type is 2\n",
    "    df = df.loc[df['type'] != 2]\n",
    "    \n",
    "    # Add a 'week' column with the week number of the year\n",
    "    df['week'] = df['date'].dt.isocalendar().week\n",
    "    \n",
    "    # Add a 'month' column with the month of the date\n",
    "    df['month'] = df['date'].dt.month\n",
    "    \n",
    "    # Add a 'year' column with the year of the date\n",
    "    df['year'] = df['date'].dt.year\n",
    "    \n",
    "    # Calculate the total profit by adding the profit, swap, commission, and fee columns\n",
    "    df.loc[:, 'total_profit'] = df['profit'] + df['swap'] + df['commission'] + df['fee']\n",
    "    \n",
    "    # Group by week, month, and year and sum the total profit for each group\n",
    "    df_weekly_percentage_growth = df.groupby(by=['week', 'month', 'year'])['total_profit'].sum().reset_index()\n",
    "    \n",
    "    # Calculate the cumulative weekly growth\n",
    "    df_weekly_percentage_growth.loc[:, 'cummulative_weekly_growth'] = df_weekly_percentage_growth['total_profit'].cumsum()\n",
    "    \n",
    "    # Calculate the daily balance by adding deposit to cumulative weekly growth\n",
    "    df_weekly_percentage_growth.loc[:, 'daily_balance'] =  deposit + df_weekly_percentage_growth['cummulative_weekly_growth']\n",
    "    \n",
    "    # Calculate the percentage weekly growth based on deposit\n",
    "    df_weekly_percentage_growth.loc[:, 'percentage_weekly_growth_%'] = round((df_weekly_percentage_growth['cummulative_weekly_growth'] / deposit), 3)\n",
    "    \n",
    "    # Calculate the cumulative weekly percentage growth based on the percentage weekly growth\n",
    "    df_weekly_percentage_growth.loc[:, 'cummulative_weekly_percentage_growth_%'] = round(df_weekly_percentage_growth['percentage_weekly_growth_%'].diff() * 100, 3)\n",
    "    \n",
    "    # Sort the DataFrame by year, month, and week in descending order\n",
    "    df_weekly_percentage_growth = df_weekly_percentage_growth.sort_values(by=['year', 'month', 'week'], ascending=False)\n",
    "    \n",
    "    # Slice the DataFrame to get the first two rows\n",
    "    df_weekly_cum_growth = df_weekly_percentage_growth.iloc[:2]\n",
    "\n",
    "    return df_weekly_cum_growth\n",
    "\n",
    "df_weekly_cum_growth = weekly_percentage_growth(df)\n",
    "current_growth = df_weekly_cum_growth['cummulative_weekly_percentage_growth_%'].to_list()[0]\n",
    "previous_week_growth = df_weekly_cum_growth['cummulative_weekly_percentage_growth_%'].to_list()[1]\n",
    "st.metric(label = 'weekly_growth', value = f\"{current_growth} %\", delta = f\"{previous_week_growth} %\" )"
   ]
  }
 ],
 "metadata": {
  "kernelspec": {
   "display_name": "fxboard",
   "language": "python",
   "name": "python3"
  },
  "language_info": {
   "codemirror_mode": {
    "name": "ipython",
    "version": 3
   },
   "file_extension": ".py",
   "mimetype": "text/x-python",
   "name": "python",
   "nbconvert_exporter": "python",
   "pygments_lexer": "ipython3",
   "version": "3.11.5"
  },
  "orig_nbformat": 4
 },
 "nbformat": 4,
 "nbformat_minor": 2
}
